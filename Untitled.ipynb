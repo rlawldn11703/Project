{
 "cells": [
  {
   "cell_type": "code",
   "execution_count": 1,
   "metadata": {},
   "outputs": [],
   "source": [
    "import pandas as pd\n",
    "from sklearn.linear_model import LinearRegression"
   ]
  },
  {
   "cell_type": "code",
   "execution_count": 2,
   "metadata": {},
   "outputs": [],
   "source": [
    "df_train=pd.read_csv('data/jeju_data_ver1/201901-202003.csv')\n",
    "df_test=pd.read_csv(\"data/jeju_data_ver1/submission.csv\")"
   ]
  },
  {
   "cell_type": "code",
   "execution_count": null,
   "metadata": {},
   "outputs": [],
   "source": [
    "x_train=df_tr.iloc[:,10:]\n",
    "y_train=df_tr['AMT']\n",
    "x_test=df_test.iloc[:,4:]"
   ]
  },
  {
   "cell_type": "code",
   "execution_count": null,
   "metadata": {},
   "outputs": [],
   "source": [
    "LinearR=LinearRegression()\n",
    "LinearR.fit(x_train,y_train) "
   ]
  },
  {
   "cell_type": "code",
   "execution_count": null,
   "metadata": {},
   "outputs": [],
   "source": [
    "prediction=LinearR.predict(x_test)\n",
    "submit=pd.DataFrame({'id':df_test['id'],\n",
    "                     'REG_YYMM':df_test['REG_YYMM'],\n",
    "                     'CARD_SIDO_NM':df_test['CARD_SIDO_NM'],\n",
    "                     'STD_CLSS_NM':df_test['STD_CLSS_NM'],\n",
    "                     'AMT':prediction})\n",
    "submit.to_csv('submit.csv',index=True)"
   ]
  },
  {
   "cell_type": "code",
   "execution_count": null,
   "metadata": {},
   "outputs": [],
   "source": [
    "# 시계열\n",
    "from fbprophet import Prophet\n",
    "from datetime import datetime as dt\n",
    "from statsmodels.tsa.arima_model import ARIMA\n",
    "from dateutil.relativedelta import relativedelta\n",
    "from statsmodels.tsa.api import SimpleExpSmoothing, Holt, ExponentialSmoothing"
   ]
  },
  {
   "cell_type": "code",
   "execution_count": null,
   "metadata": {},
   "outputs": [],
   "source": [
    "def mae(prediction, correct):\n",
    "    prediction = np.array(prediction)\n",
    "    correct = np.array(correct)\n",
    "    \n",
    "    difference = correct - prediction\n",
    "    abs_val = abs(difference)\n",
    "    \n",
    "    score = abs_val.mean()\n",
    "    \n",
    "    return score\n",
    "\n",
    "mae_scorer = make_scorer(mae)\n",
    "mae_scorer"
   ]
  },
  {
   "cell_type": "code",
   "execution_count": null,
   "metadata": {},
   "outputs": [],
   "source": []
  }
 ],
 "metadata": {
  "kernelspec": {
   "display_name": "Python 3",
   "language": "python",
   "name": "python3"
  },
  "language_info": {
   "codemirror_mode": {
    "name": "ipython",
    "version": 3
   },
   "file_extension": ".py",
   "mimetype": "text/x-python",
   "name": "python",
   "nbconvert_exporter": "python",
   "pygments_lexer": "ipython3",
   "version": "3.7.4"
  }
 },
 "nbformat": 4,
 "nbformat_minor": 2
}
